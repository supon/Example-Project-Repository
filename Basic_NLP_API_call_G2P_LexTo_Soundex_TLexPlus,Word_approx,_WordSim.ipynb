{
  "nbformat": 4,
  "nbformat_minor": 0,
  "metadata": {
    "colab": {
      "provenance": [],
      "collapsed_sections": [
        "xAHmZqf4a5h3",
        "bG1_K72wa7Lw",
        "hj4wrbU7ZixI",
        "qVx98iMgb6V3",
        "nBHXzQJNb8OB",
        "mmvlPNk3cquZ",
        "fDI_eFcOcsTP",
        "smYGluD8ZX82",
        "ppAl_1y2Zaiv",
        "kxc1r1UMadKe",
        "VXtiNJ1Yaez_",
        "PtjuAWj_dx90",
        "HCrcWUABd0Bw",
        "eFpEl2c4e-bB",
        "0j0esYP1e__R"
      ],
      "include_colab_link": true
    },
    "kernelspec": {
      "name": "python3",
      "display_name": "Python 3"
    }
  },
  "cells": [
    {
      "cell_type": "markdown",
      "metadata": {
        "id": "view-in-github",
        "colab_type": "text"
      },
      "source": [
        "<a href=\"https://colab.research.google.com/github/supon/Example-Project-Repository/blob/main/Basic_NLP_API_call_G2P_LexTo_Soundex_TLexPlus%2CWord_approx%2C_WordSim.ipynb\" target=\"_parent\"><img src=\"https://colab.research.google.com/assets/colab-badge.svg\" alt=\"Open In Colab\"/></a>"
      ]
    },
    {
      "cell_type": "markdown",
      "metadata": {
        "id": "sBVJ_GIyVbL7"
      },
      "source": [
        "# https://aiforthai.in.th/"
      ]
    },
    {
      "cell_type": "code",
      "metadata": {
        "id": "9deThaGA9EX8"
      },
      "source": [
        "import requests"
      ],
      "execution_count": null,
      "outputs": []
    },
    {
      "cell_type": "code",
      "metadata": {
        "id": "zbgQRADHMD4x"
      },
      "source": [
        "Apikey=''"
      ],
      "execution_count": null,
      "outputs": []
    },
    {
      "cell_type": "markdown",
      "metadata": {
        "id": "ia-xcZwTLhAH"
      },
      "source": [
        "## TLexPlus API\n",
        "- Host\n",
        "https://api.aiforthai.in.th/tlexplus\n",
        "- Method\tGET/POST\n",
        "- Header\n",
        "  - Apikey : apikey\n",
        "- Parameter\n",
        "  - text : ข้อความที่ต้องการวิเคราะห์"
      ]
    },
    {
      "cell_type": "markdown",
      "metadata": {
        "id": "xAHmZqf4a5h3"
      },
      "source": [
        "### GET"
      ]
    },
    {
      "cell_type": "code",
      "metadata": {
        "id": "71Hgr9F-Kbjq"
      },
      "source": [
        "%%time\n",
        "url ='https://api.aiforthai.in.th/tlexplus'\n",
        "headers = {'Apikey':Apikey}\n",
        "\n",
        "params = {'text':'ฉันนั่งรถไฟฟ้าไปสยามพารากอน'}\n",
        "res = requests.get(url, params=params, headers=headers)\n",
        "print(res.status_code)\n",
        "print(res.headers)\n",
        "print(res.json())"
      ],
      "execution_count": null,
      "outputs": []
    },
    {
      "cell_type": "markdown",
      "metadata": {
        "id": "bG1_K72wa7Lw"
      },
      "source": [
        "### POST"
      ]
    },
    {
      "cell_type": "code",
      "metadata": {
        "id": "wmVoacIMbQgS"
      },
      "source": [
        "%%time\n",
        "url ='https://api.aiforthai.in.th/tlexplus'\n",
        "headers = {'Apikey':Apikey}\n",
        "\n",
        "data = {'text':'ฉันนั่งรถไฟฟ้าไปสยามพารากอน'}\n",
        "res = requests.post(url, data=data, headers=headers)\n",
        "print(res.status_code)\n",
        "print(res.headers)\n",
        "print(res.json())"
      ],
      "execution_count": null,
      "outputs": []
    },
    {
      "cell_type": "markdown",
      "metadata": {
        "id": "v1m8bI7mE-I7"
      },
      "source": [
        "## LexToPlus API\n",
        "- Host\n",
        "https://api.aiforthai.in.th/lextoplus\n",
        "- Method\tGET/POST\n",
        "- Header\n",
        "  - Apikey : apikey\n",
        "  - Content-Type : application/x-www-form-urlencoded\n",
        "- Parameter\n",
        "  - text : ข้อความที่ต้องการตัดคำ\n",
        "  - norm : การลดรูปตัวอักษรที่พิมพ์ซ้ำ (normalize)\n",
        "         0 = ไม่ทำการ normalize (default)\n",
        "         1 = ทำ normalize"
      ]
    },
    {
      "cell_type": "markdown",
      "metadata": {
        "id": "9KbUip2wZg5P"
      },
      "source": [
        "### GET"
      ]
    },
    {
      "cell_type": "code",
      "metadata": {
        "id": "He-0vMb6B4-i"
      },
      "source": [
        "%%time\n",
        "url ='https://api.aiforthai.in.th/lextoplus'\n",
        "headers = {'Apikey':Apikey}\n",
        "text = 'ฉันนั่งรถไฟฟ้าไปสยามพารากอนนนนน'\n",
        "params = {'text':text,'norm':'1'}\n",
        "res = requests.get(url, params=params, headers=headers)\n",
        "# print(res.status_code)\n",
        "# print(res.headers)\n",
        "print(res.json())"
      ],
      "execution_count": null,
      "outputs": []
    },
    {
      "cell_type": "markdown",
      "metadata": {
        "id": "hj4wrbU7ZixI"
      },
      "source": [
        "### POST"
      ]
    },
    {
      "cell_type": "code",
      "metadata": {
        "id": "YkEwzPIf9yG5"
      },
      "source": [
        "%%time\n",
        "url ='https://api.aiforthai.in.th/lextoplus'\n",
        "headers = {'Apikey':Apikey}\n",
        "text = 'ฉันนั่งรถไฟฟ้าไปสยามพารากอนนนนน'\n",
        "params = {'text':text,'norm':'1'}\n",
        "res = requests.post(url, data=params, headers=headers)\n",
        "# print(res.status_code)\n",
        "# print(res.headers)\n",
        "print(res.json())"
      ],
      "execution_count": null,
      "outputs": []
    },
    {
      "cell_type": "markdown",
      "metadata": {
        "id": "PkbxkevwNA1U"
      },
      "source": [
        "## TLex++ API\n",
        "- Host\n",
        "https://api.aiforthai.in.th/tpos\n",
        "- Method\tGET/POST\n",
        "- Header\n",
        "  - Apikey : apikey\n",
        "- Parameter\n",
        "  - text : ข้อความที่ต้องการวิเคราะห์"
      ]
    },
    {
      "cell_type": "markdown",
      "metadata": {
        "id": "qVx98iMgb6V3"
      },
      "source": [
        "### GET"
      ]
    },
    {
      "cell_type": "code",
      "metadata": {
        "id": "2eUuvMm2MTy1",
        "colab": {
          "base_uri": "https://localhost:8080/",
          "height": 89
        },
        "outputId": "3d46eb26-8abe-481e-b0fa-744b449426b4"
      },
      "source": [
        "%%time\n",
        "url ='https://api.aiforthai.in.th/tpos'\n",
        "headers = {'Apikey':Apikey}\n",
        "\n",
        "params = {'text':'ฉันนั่งรถไฟฟ้าไปสยามพารากอน'}\n",
        "res = requests.get(url, params=params, headers=headers)\n",
        "# print(res.status_code)\n",
        "# print(res.headers)\n",
        "print(res.json())\n",
        "\n",
        "data = list(zip(res.json()['words'],res.json()['tags']))\n",
        "print(data)"
      ],
      "execution_count": null,
      "outputs": [
        {
          "output_type": "stream",
          "text": [
            "{'words': ['ฉัน', 'นั่ง', 'รถ', 'ไฟฟ้า', 'ไป', 'สยามพารากอน'], 'tags': ['PPER', 'VV', 'NN', 'NN', 'VV', 'NR']}\n",
            "[('ฉัน', 'PPER'), ('นั่ง', 'VV'), ('รถ', 'NN'), ('ไฟฟ้า', 'NN'), ('ไป', 'VV'), ('สยามพารากอน', 'NR')]\n",
            "CPU times: user 13.8 ms, sys: 5.31 ms, total: 19.1 ms\n",
            "Wall time: 4.22 s\n"
          ],
          "name": "stdout"
        }
      ]
    },
    {
      "cell_type": "markdown",
      "metadata": {
        "id": "nBHXzQJNb8OB"
      },
      "source": [
        "### POST"
      ]
    },
    {
      "cell_type": "code",
      "metadata": {
        "id": "MKhBfeBSb9M4"
      },
      "source": [
        "%%time\n",
        "url ='https://api.aiforthai.in.th/tpos'\n",
        "headers = {'Apikey':Apikey}\n",
        "\n",
        "data = {'text':'ฉันนั่งรถไฟฟ้าไปสยามพารากอน'}\n",
        "res = requests.post(url, data=data, headers=headers)\n",
        "# print(res.status_code)\n",
        "# print(res.headers)\n",
        "print(res.json())\n",
        "\n",
        "data = list(zip(res.json()['words'],res.json()['tags']))\n",
        "print(data)"
      ],
      "execution_count": null,
      "outputs": []
    },
    {
      "cell_type": "markdown",
      "metadata": {
        "id": "Rgy46Bo0OcF-"
      },
      "source": [
        "## TNer API\n",
        "- Host\n",
        "  - https://api.aiforthai.in.th/tner\n",
        "- Method\tGET/POST\n",
        "- Header\n",
        "  - Apikey : apikey\n",
        "- Parameter\n",
        "  - text : ข้อความที่ต้องการวิเคราะห์"
      ]
    },
    {
      "cell_type": "markdown",
      "metadata": {
        "id": "mmvlPNk3cquZ"
      },
      "source": [
        "### GET"
      ]
    },
    {
      "cell_type": "code",
      "metadata": {
        "id": "diIBnCXiNghS"
      },
      "source": [
        "%%time\n",
        "import requests\n",
        "\n",
        "url = \"https://api.aiforthai.in.th/tner\"\n",
        "\n",
        "params = {'text':'เรานั่งรถจากสยามพารากอนไปศูนย์เนคเทค'}\n",
        "\n",
        "\n",
        "headers = {\n",
        "    'Apikey': Apikey,\n",
        "    }\n",
        "\n",
        "response = requests.request(\"GET\", url, headers=headers, params=params)\n",
        "\n",
        "# print(response.json())\n",
        "# print(response.status_code)\n",
        "# print(response.headers)\n",
        "print(response.json())\n",
        "data = list(zip(response.json()['words'],response.json()['POS'],response.json()['tags']))\n",
        "print(data)"
      ],
      "execution_count": null,
      "outputs": []
    },
    {
      "cell_type": "markdown",
      "metadata": {
        "id": "fDI_eFcOcsTP"
      },
      "source": [
        "### POST"
      ]
    },
    {
      "cell_type": "code",
      "metadata": {
        "id": "Dnf2Orw5cttg"
      },
      "source": [
        "%%time\n",
        "import requests\n",
        "\n",
        "url = \"https://api.aiforthai.in.th/tner\"\n",
        "\n",
        "data = {'text':'เรานั่งรถจากสยามพารากอนไปศูนย์เนคเทค'}\n",
        "\n",
        "headers = {\n",
        "    'Apikey': Apikey,\n",
        "    }\n",
        "\n",
        "response = requests.post(url, data=data, headers=headers)\n",
        "\n",
        "# print(response.json())\n",
        "# print(response.status_code)\n",
        "# print(response.headers)\n",
        "print(response.json())\n",
        "data = list(zip(response.json()['words'],response.json()['POS'],response.json()['tags']))\n",
        "print(data)"
      ],
      "execution_count": null,
      "outputs": []
    },
    {
      "cell_type": "markdown",
      "metadata": {
        "id": "nfdQVltAA4vM"
      },
      "source": [
        "## G2P API\n",
        "- URL\n",
        "https://api.aiforthai.in.th/vaja\n",
        "\n",
        "- Header\n",
        "  - Apikey : apikey\n",
        "\n",
        "- Parameters\n",
        "  - text : ข้อความที่ต้องการแปลง\n",
        "  - mode : ta"
      ]
    },
    {
      "cell_type": "markdown",
      "metadata": {
        "id": "smYGluD8ZX82"
      },
      "source": [
        "### GET"
      ]
    },
    {
      "cell_type": "code",
      "metadata": {
        "id": "AEv9nczeEVFj"
      },
      "source": [
        "%%time\n",
        "text = 'แปลงปาป่าป้าป๊าป๋า พ.ศ.2562'\n",
        "params = {'text':text,'mode':'ta'}\n",
        "url = 'https://api.aiforthai.in.th/vaja'\n",
        "headers = {'Apikey':Apikey}\n",
        "res = requests.get(url, params=params, headers=headers)\n",
        "# print(res.status_code)\n",
        "# print(res.headers)\n",
        "print(res.json())\n",
        "print(res.json()['output']['result'])"
      ],
      "execution_count": null,
      "outputs": []
    },
    {
      "cell_type": "markdown",
      "metadata": {
        "id": "ppAl_1y2Zaiv"
      },
      "source": [
        "### POST"
      ]
    },
    {
      "cell_type": "code",
      "metadata": {
        "id": "U21vFDhu_F1H"
      },
      "source": [
        "%%time\n",
        "text = 'แปลงปาป่าป้าป๊าป๋า พ.ศ.2562'\n",
        "params = {'text':text,'mode':'ta'}\n",
        "url = 'https://api.aiforthai.in.th/vaja'\n",
        "headers = {'Apikey':Apikey}\n",
        "res = requests.post(url, data=params, headers=headers)\n",
        "# print(res.status_code)\n",
        "# print(res.headers)\n",
        "print(res.json())\n",
        "print(res.json()['output']['result'])"
      ],
      "execution_count": null,
      "outputs": []
    },
    {
      "cell_type": "markdown",
      "metadata": {
        "id": "iFtCooN3HVTd"
      },
      "source": [
        "## Soundex API\n",
        "### Host\n",
        "https://api.aiforthai.in.th/soundex\n",
        "### Method\tGET/POST\n",
        "### Header\n",
        "- Apikey : apikey\n",
        "\n",
        "### Parameter\n",
        "- word : ข้อความที่ต้องการแปลง\n",
        "- model : ประเภทของโมเดล\n",
        "         personname = รายชื่อคนไทยยอดนิยม\n",
        "         royin = พจนานุกรมราชบัณฑิต"
      ]
    },
    {
      "cell_type": "markdown",
      "metadata": {
        "id": "kxc1r1UMadKe"
      },
      "source": [
        "### GET"
      ]
    },
    {
      "cell_type": "code",
      "metadata": {
        "id": "v5ZnQeOrE9Wa"
      },
      "source": [
        "%%time\n",
        "url ='https://api.aiforthai.in.th/soundex'\n",
        "headers = {'Apikey': Apikey}\n",
        "\n",
        "params = {'word':'กันยารัด','model':'personname'}\n",
        "res = requests.get(url, params=params, headers=headers)\n",
        "# print(res.status_code)\n",
        "# print(res.headers)\n",
        "print(res.json())\n",
        "for data in res.json()['words']:\n",
        "  print(data)"
      ],
      "execution_count": null,
      "outputs": []
    },
    {
      "cell_type": "markdown",
      "metadata": {
        "id": "VXtiNJ1Yaez_"
      },
      "source": [
        "### POST"
      ]
    },
    {
      "cell_type": "code",
      "metadata": {
        "id": "URM0Q951agaA"
      },
      "source": [
        "url ='https://api.aiforthai.in.th/soundex'\n",
        "headers = {'Apikey': Apikey}\n",
        "\n",
        "params = {'word':'กันยารัด','model':'personname'}\n",
        "res = requests.post(url, data=params, headers=headers)\n",
        "# print(res.status_code)\n",
        "# print(res.headers)\n",
        "print(res.json())\n",
        "for data in res.json()['words']:\n",
        "  print(data)"
      ],
      "execution_count": null,
      "outputs": []
    },
    {
      "cell_type": "markdown",
      "metadata": {
        "id": "-MCtFFG4POYG"
      },
      "source": [
        "## WordApprox API\n",
        "- Host\n",
        "  - https://api.aiforthai.in.th/wordapprox\n",
        "- Method\tGET/POST\n",
        "- Header\n",
        "  - Apikey : apikey\n",
        "- Parameter\n",
        "  - word : คำที่ต้องการหาคำใกล้เคียง\n",
        "  - model : ประเภทของโมเดล\n",
        "         personname = รายชื่อคนไทยยอดนิยม\n",
        "         royin = พจนานุกรมราชบัณฑิต"
      ]
    },
    {
      "cell_type": "markdown",
      "metadata": {
        "id": "PtjuAWj_dx90"
      },
      "source": [
        "### GET"
      ]
    },
    {
      "cell_type": "code",
      "metadata": {
        "id": "osPS7RBzPGz5"
      },
      "source": [
        "url = \"https://api.aiforthai.in.th/wordapprox\"\n",
        "\n",
        "params = {'word':'กันยารัด','model':'personname'}\n",
        "\n",
        "headers = {\n",
        "    'Apikey': Apikey,\n",
        "    }\n",
        "res = requests.request(\"GET\", url, headers=headers, params=params)\n",
        "\n",
        "# print(res.status_code)\n",
        "# print(res.headers)\n",
        "print(res.json())\n",
        "for data in res.json()['words']:\n",
        "  print(data)"
      ],
      "execution_count": null,
      "outputs": []
    },
    {
      "cell_type": "markdown",
      "metadata": {
        "id": "HCrcWUABd0Bw"
      },
      "source": [
        "### POST"
      ]
    },
    {
      "cell_type": "code",
      "metadata": {
        "id": "38jNxAzEd2PA"
      },
      "source": [
        "url = \"https://api.aiforthai.in.th/wordapprox\"\n",
        "\n",
        "data = {'word':'กันยารัด','model':'personname'}\n",
        "\n",
        "headers = {\n",
        "    'Apikey':Apikey,\n",
        "    }\n",
        "res = requests.post(url, data=data, headers=headers)\n",
        "\n",
        "# print(res.status_code)\n",
        "# print(res.headers)\n",
        "print(res.json())\n",
        "for data in res.json()['words']:\n",
        "  print(data)"
      ],
      "execution_count": null,
      "outputs": []
    },
    {
      "cell_type": "markdown",
      "metadata": {
        "id": "k9EpacwdQCYY"
      },
      "source": [
        "## Word Similarity\n",
        "- Host\n",
        "  - https://api.aiforthai.in.th/thaiwordsim\n",
        "- Method\tGET/POST\n",
        "- Header\n",
        "  - Apikey : apikey\n",
        "- Parameter\n",
        "  - word : คำที่ต้องการค้นหา\n",
        "  - numword : จำนวนคำที่ต้องการแสดงผลลัพธ์\n",
        "  - model : ประเภทของโมเดล\n",
        "         thwiki = ข้อมูลวิกิพีเดียภาษาไทย\n",
        "         twitter = ข้อมูลทวิตเตอร์ภาษาไทย"
      ]
    },
    {
      "cell_type": "markdown",
      "metadata": {
        "id": "eFpEl2c4e-bB"
      },
      "source": [
        "### GET"
      ]
    },
    {
      "cell_type": "code",
      "metadata": {
        "id": "jt4-HcjCPuq8"
      },
      "source": [
        "url ='https://api.aiforthai.in.th/thaiwordsim'\n",
        "headers = {'Apikey': Apikey}\n",
        "params = {'word':'สวย','model':'twitter','numword':'5'}\n",
        "res = requests.get(url, params=params, headers=headers)\n",
        "# print(res.status_code)\n",
        "# print(res.headers)\n",
        "print(res.json())\n",
        "for data in res.json()['words']:\n",
        "  print(data)"
      ],
      "execution_count": null,
      "outputs": []
    },
    {
      "cell_type": "markdown",
      "metadata": {
        "id": "0j0esYP1e__R"
      },
      "source": [
        "### POST"
      ]
    },
    {
      "cell_type": "code",
      "metadata": {
        "id": "K8S_ESS6RKH_"
      },
      "source": [
        "url = \"https://api.aiforthai.in.th/thaiwordsim\"\n",
        "data = {'word':'สวย','model':'twitter','numword':'5'}\n",
        "headers = {'Apikey': Apikey}\n",
        "res = requests.post( url, data=data, headers=headers)\n",
        "# print(res.status_code)\n",
        "# print(res.headers)\n",
        "print(res.json())\n",
        "for data in res.json()['words']:\n",
        "  print(data)"
      ],
      "execution_count": null,
      "outputs": []
    }
  ]
}